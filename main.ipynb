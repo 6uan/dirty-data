{
 "cells": [
  {
   "cell_type": "markdown",
   "metadata": {},
   "source": [
    "## load our dependencies"
   ]
  },
  {
   "cell_type": "code",
   "execution_count": 39,
   "metadata": {},
   "outputs": [],
   "source": [
    "import pandas as pd"
   ]
  },
  {
   "cell_type": "markdown",
   "metadata": {},
   "source": [
    "load our dataframe"
   ]
  },
  {
   "cell_type": "code",
   "execution_count": 40,
   "metadata": {},
   "outputs": [
    {
     "name": "stdout",
     "output_type": "stream",
     "text": [
      "Audible Info\n",
      "****************************************************************************************************\n",
      "<class 'pandas.core.frame.DataFrame'>\n",
      "RangeIndex: 87489 entries, 0 to 87488\n",
      "Data columns (total 8 columns):\n",
      " #   Column       Non-Null Count  Dtype \n",
      "---  ------       --------------  ----- \n",
      " 0   name         87489 non-null  object\n",
      " 1   author       87489 non-null  object\n",
      " 2   narrator     87489 non-null  object\n",
      " 3   time         87489 non-null  object\n",
      " 4   releasedate  87489 non-null  object\n",
      " 5   language     87489 non-null  object\n",
      " 6   stars        87489 non-null  object\n",
      " 7   price        87489 non-null  object\n",
      "dtypes: object(8)\n",
      "memory usage: 5.3+ MB\n",
      "None\n",
      "****************************************************************************************************\n"
     ]
    }
   ],
   "source": [
    "audible_path = './audible_uncleaned.csv'\n",
    "audible_df = pd.read_csv(audible_path)\n",
    "\n",
    "print(\"Audible Info\")\n",
    "print(\"*\" * 100)\n",
    "print(audible_df.info())\n",
    "print(\"*\" * 100)"
   ]
  },
  {
   "cell_type": "markdown",
   "metadata": {},
   "source": [
    "extract info from 'stars'\n",
    "\n",
    "**4.5 out of 5 stars41 ratings** ➡️ stars: 4.5 | ratings: 41 | rated: yes\n",
    "\n",
    "**Not rated yet** ➡️ stars: NaN | ratings: NaN | rated: no "
   ]
  },
  {
   "cell_type": "code",
   "execution_count": 42,
   "metadata": {},
   "outputs": [],
   "source": [
    "# Rename Stars to use it with correct float values\n",
    "audible_df.rename(columns={'stars': 'original_stars'}, inplace=True)\n",
    "\n",
    "# Step 1: Extract star ratings as float\n",
    "audible_df['stars'] = audible_df['original_stars'].str.extract(r'(\\d+\\.?\\d*)').astype(float)\n",
    "\n",
    "# Step 2: Extract rating counts as integers\n",
    "audible_df['ratings'] = audible_df['original_stars'].str.extract(r'(\\d+) ratings').astype(float)\n",
    "\n",
    "# Step 3: Add 'rated' field\n",
    "audible_df['rated'] = audible_df['original_stars'].apply(lambda x: 'no' if 'Not rated yet' in x else 'yes')\n",
    "\n",
    "# Drop the original 'stars' column if it's no longer needed\n",
    "audible_df.drop(columns=['original_stars'], inplace=True)"
   ]
  },
  {
   "cell_type": "code",
   "execution_count": 45,
   "metadata": {},
   "outputs": [
    {
     "name": "stdout",
     "output_type": "stream",
     "text": [
      "Audible DF with new fields\n",
      "****************************************************************************************************\n",
      "                                         name                     author  \\\n",
      "0                  Geronimo Stilton #11 & #12  Writtenby:GeronimoStilton   \n",
      "1                            The Burning Maze      Writtenby:RickRiordan   \n",
      "2                                The Deep End       Writtenby:JeffKinney   \n",
      "3                        Daughter of the Deep      Writtenby:RickRiordan   \n",
      "4  The Lightning Thief: Percy Jackson, Book 1      Writtenby:RickRiordan   \n",
      "\n",
      "                    narrator                time releasedate language   price  \\\n",
      "0      Narratedby:BillLobely   2 hrs and 20 mins    04-08-08  English  468.00   \n",
      "1   Narratedby:RobbieDaymond   13 hrs and 8 mins    01-05-18  English  820.00   \n",
      "2      Narratedby:DanRussell    2 hrs and 3 mins    06-11-20  English  410.00   \n",
      "3  Narratedby:SoneelaNankani  11 hrs and 16 mins    05-10-21  English  615.00   \n",
      "4  Narratedby:JesseBernstein              10 hrs    13-01-10  English  820.00   \n",
      "\n",
      "   stars  ratings rated  \n",
      "0    5.0     34.0   yes  \n",
      "1    4.5     41.0   yes  \n",
      "2    4.5     38.0   yes  \n",
      "3    4.5     12.0   yes  \n",
      "4    4.5    181.0   yes  \n",
      "****************************************************************************************************\n"
     ]
    }
   ],
   "source": [
    "print(\"Audible DF with new fields\")\n",
    "print(\"*\" * 100)\n",
    "print(audible_df.head())\n",
    "print(\"*\" * 100)"
   ]
  }
 ],
 "metadata": {
  "kernelspec": {
   "display_name": "Python 3",
   "language": "python",
   "name": "python3"
  },
  "language_info": {
   "codemirror_mode": {
    "name": "ipython",
    "version": 3
   },
   "file_extension": ".py",
   "mimetype": "text/x-python",
   "name": "python",
   "nbconvert_exporter": "python",
   "pygments_lexer": "ipython3",
   "version": "3.11.5"
  }
 },
 "nbformat": 4,
 "nbformat_minor": 2
}
