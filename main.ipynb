{
 "cells": [
  {
   "cell_type": "markdown",
   "metadata": {},
   "source": [
    "## load our dependencies"
   ]
  },
  {
   "cell_type": "code",
   "execution_count": 1,
   "metadata": {},
   "outputs": [],
   "source": [
    "import pandas as pd\n",
    "import re"
   ]
  },
  {
   "cell_type": "markdown",
   "metadata": {},
   "source": [
    "# load our dataframe"
   ]
  },
  {
   "cell_type": "code",
   "execution_count": 2,
   "metadata": {},
   "outputs": [
    {
     "name": "stdout",
     "output_type": "stream",
     "text": [
      "Audible Info\n",
      "*********************************************\n",
      "<class 'pandas.core.frame.DataFrame'>\n",
      "RangeIndex: 87489 entries, 0 to 87488\n",
      "Data columns (total 8 columns):\n",
      " #   Column       Non-Null Count  Dtype \n",
      "---  ------       --------------  ----- \n",
      " 0   name         87489 non-null  object\n",
      " 1   author       87489 non-null  object\n",
      " 2   narrator     87489 non-null  object\n",
      " 3   time         87489 non-null  object\n",
      " 4   releasedate  87489 non-null  object\n",
      " 5   language     87489 non-null  object\n",
      " 6   stars        87489 non-null  object\n",
      " 7   price        87489 non-null  object\n",
      "dtypes: object(8)\n",
      "memory usage: 5.3+ MB\n",
      "None\n",
      "*********************************************\n",
      "\n",
      "Audible Shape\n",
      "***************\n",
      "(87489, 8)\n",
      "***************\n"
     ]
    }
   ],
   "source": [
    "audible_path = './audible_uncleaned.csv'\n",
    "audible_df = pd.read_csv(audible_path)\n",
    "\n",
    "print(\"Audible Info\")\n",
    "print(\"*\" * 45)\n",
    "print(audible_df.info())\n",
    "print(\"*\" * 45)\n",
    "\n",
    "print()\n",
    "\n",
    "print(\"Audible Shape\")\n",
    "print(\"*\" * 15)\n",
    "print(audible_df.shape)\n",
    "print(\"*\" * 15)"
   ]
  },
  {
   "cell_type": "markdown",
   "metadata": {},
   "source": [
    "# checking all unique Languages 🗺️ and dropping all but English and Spanish"
   ]
  },
  {
   "cell_type": "code",
   "execution_count": 3,
   "metadata": {},
   "outputs": [
    {
     "name": "stdout",
     "output_type": "stream",
     "text": [
      "Unique languages: ['English' 'Hindi' 'spanish' 'german' 'french' 'catalan' 'swedish'\n",
      " 'italian' 'danish' 'finnish' 'dutch' 'hebrew' 'russian' 'polish'\n",
      " 'galician' 'afrikaans' 'icelandic' 'romanian' 'japanese' 'tamil'\n",
      " 'portuguese' 'urdu' 'hungarian' 'czech' 'bulgarian' 'mandarin_chinese'\n",
      " 'basque' 'korean' 'arabic' 'greek' 'turkish' 'ukrainian' 'slovene'\n",
      " 'norwegian' 'telugu' 'lithuanian']\n"
     ]
    }
   ],
   "source": [
    "# Check unique language values\n",
    "unique_languages = audible_df['language'].unique()\n",
    "print(\"Unique languages:\", unique_languages)\n",
    "\n",
    "# Filter the DataFrame to keep only English and Spanish entries\n",
    "audible_df = audible_df[audible_df['language'].isin(['English', 'Spanish'])]\n"
   ]
  },
  {
   "cell_type": "markdown",
   "metadata": {},
   "source": [
    "# extract info from 'stars'\n",
    "\n",
    "##### '**4.5 out of 5 stars41 ratings**' ➡️ stars: 4.5 | ratings: 41 | rated: yes\n",
    "\n",
    "##### '**Not rated yet**' ➡️ stars: NaN | ratings: NaN | rated: no "
   ]
  },
  {
   "cell_type": "code",
   "execution_count": 4,
   "metadata": {},
   "outputs": [],
   "source": [
    "# Rename Stars to use it with correct float values\n",
    "audible_df.rename(columns={'stars': 'original_stars'}, inplace=True)\n",
    "\n",
    "# Step 1: Extract star ratings as float\n",
    "audible_df['stars'] = audible_df['original_stars'].str.extract(r'(\\d+\\.?\\d*)').astype(float)\n",
    "\n",
    "# Step 2: Extract rating counts as integers\n",
    "audible_df['ratings'] = audible_df['original_stars'].str.extract(r'(\\d+) ratings').astype(float)\n",
    "\n",
    "# Step 3: Add 'rated' field\n",
    "audible_df['rated'] = audible_df['original_stars'].apply(lambda x: 'no' if 'Not rated yet' in x else 'yes')\n",
    "\n",
    "# Drop the original 'stars' column if it's no longer needed\n",
    "audible_df.drop(columns=['original_stars'], inplace=True)"
   ]
  },
  {
   "cell_type": "code",
   "execution_count": 5,
   "metadata": {},
   "outputs": [
    {
     "name": "stdout",
     "output_type": "stream",
     "text": [
      "****************************************************************************************************\n",
      "   stars  ratings rated\n",
      "0    5.0     34.0   yes\n",
      "1    4.5     41.0   yes\n",
      "2    4.5     38.0   yes\n",
      "3    4.5     12.0   yes\n",
      "4    4.5    181.0   yes\n",
      "****************************************************************************************************\n"
     ]
    }
   ],
   "source": [
    "print(\"*\" * 100)\n",
    "print(audible_df[['stars', 'ratings', 'rated']].head())\n",
    "print(\"*\" * 100)"
   ]
  },
  {
   "cell_type": "markdown",
   "metadata": {},
   "source": [
    "# split 'releasedate' into more attributes\n",
    "\n",
    "##### '**04-08-08**' ➡️ month: 04 | day: 08 | year: 08"
   ]
  },
  {
   "cell_type": "code",
   "execution_count": 19,
   "metadata": {},
   "outputs": [],
   "source": [
    "# Split the 'releasedate' column into day, month, and year\n",
    "audible_df[['day', 'month', 'year']] = audible_df['releasedate'].str.split('-', expand=True)\n",
    "\n",
    "# Format the year as a four-digit year\n",
    "audible_df['year'] = audible_df['year'].apply(lambda x: int(x) + 2000 if int(x) < 100 else int(x))"
   ]
  },
  {
   "cell_type": "code",
   "execution_count": 20,
   "metadata": {},
   "outputs": [
    {
     "name": "stdout",
     "output_type": "stream",
     "text": [
      "****************************************************************************************************\n",
      "  day month  year\n",
      "0  04    08  2008\n",
      "1  01    05  2018\n",
      "2  06    11  2020\n",
      "3  05    10  2021\n",
      "4  13    01  2010\n",
      "****************************************************************************************************\n"
     ]
    }
   ],
   "source": [
    "print(\"*\" * 100)\n",
    "print(audible_df[['day', 'month', 'year']].head())\n",
    "print(\"*\" * 100)"
   ]
  },
  {
   "cell_type": "markdown",
   "metadata": {},
   "source": [
    "# fix 'author' and 'narrator' to exclude _______by:\n",
    "\n",
    "****some books may have multiple authors****\n",
    "\n",
    "##### 'Writtenby:GeronimoStilton' ➡️ author: Geronimo Stilton \n",
    "##### 'Writtenby:RonaldL.Smith' ➡️ author: Ronald L. Smith \n",
    "##### 'Writtenby:HumzaArshad,HenryWhite' ➡️ author: Humza Arshad, Henry White \n",
    "\n",
    "##### 'Narratedby:BillLobely' ➡️ narrator: Bill Lobely "
   ]
  },
  {
   "cell_type": "code",
   "execution_count": 8,
   "metadata": {},
   "outputs": [],
   "source": [
    "# Remove 'Writtenby:' prefix and add spaces between names for 'author' field\n",
    "audible_df['author'] = audible_df['author'].str.replace('Writtenby:', '', regex=False)\n",
    "audible_df['author'] = audible_df['author'].apply(lambda x: re.sub(r'(\\w)([A-Z])', r'\\1 \\2', ', '.join(x.split(','))))\n",
    "\n",
    "# Remove 'Narratedby:' prefix and add spaces between names for 'narrator' field\n",
    "audible_df['narrator'] = audible_df['narrator'].str.replace('Narratedby:', '', regex=False)\n",
    "audible_df['narrator'] = audible_df['narrator'].apply(lambda x: re.sub(r'(\\w)([A-Z])', r'\\1 \\2', x))\n"
   ]
  },
  {
   "cell_type": "code",
   "execution_count": 9,
   "metadata": {},
   "outputs": [
    {
     "name": "stdout",
     "output_type": "stream",
     "text": [
      "****************************************************************************************************\n",
      "             author         narrator\n",
      "0  Geronimo Stilton      Bill Lobely\n",
      "1      Rick Riordan   Robbie Daymond\n",
      "2       Jeff Kinney      Dan Russell\n",
      "3      Rick Riordan  Soneela Nankani\n",
      "4      Rick Riordan  Jesse Bernstein\n",
      "****************************************************************************************************\n"
     ]
    }
   ],
   "source": [
    "print(\"*\" * 100)\n",
    "print(audible_df[['author', 'narrator']].head())\n",
    "print(\"*\" * 100)"
   ]
  },
  {
   "cell_type": "markdown",
   "metadata": {},
   "source": [
    "# convert time into minutes for better use of units\n",
    "\n",
    "##### '**time:11 hrs and 16 mins**' ➡️  minutes: 676"
   ]
  },
  {
   "cell_type": "code",
   "execution_count": 10,
   "metadata": {},
   "outputs": [],
   "source": [
    "# Use lambda function to convert time to minutes\n",
    "audible_df['minutes'] = audible_df['time'].apply(\n",
    "    lambda x: (\n",
    "        (int(re.search(r'(\\d+)\\s*hr', x).group(1)) * 60 if re.search(r'(\\d+)\\s*hr', x) else 0) +\n",
    "        (int(re.search(r'(\\d+)\\s*min', x).group(1)) if re.search(r'(\\d+)\\s*min', x) else 0)\n",
    "    )\n",
    ")"
   ]
  },
  {
   "cell_type": "code",
   "execution_count": 11,
   "metadata": {},
   "outputs": [
    {
     "name": "stdout",
     "output_type": "stream",
     "text": [
      "****************************************************************************************************\n",
      "                 time\n",
      "0   2 hrs and 20 mins\n",
      "1   13 hrs and 8 mins\n",
      "2    2 hrs and 3 mins\n",
      "3  11 hrs and 16 mins\n",
      "4              10 hrs\n",
      "****************************************************************************************************\n",
      "****************************************************************************************************\n",
      "   minutes\n",
      "0      140\n",
      "1      788\n",
      "2      123\n",
      "3      676\n",
      "4      600\n",
      "****************************************************************************************************\n"
     ]
    }
   ],
   "source": [
    "print(\"*\" * 100)\n",
    "print(audible_df[['time']].head())\n",
    "print(\"*\" * 100)\n",
    "print(\"*\" * 100)\n",
    "print(audible_df[['minutes']].head())\n",
    "print(\"*\" * 100)"
   ]
  },
  {
   "cell_type": "markdown",
   "metadata": {},
   "source": [
    "# convert price from INR to USD\n",
    "\n",
    "*exchange rate from 04/11/2022 from when data was scraped*\n",
    "\n",
    "##### **'price: 468'** ➡️ price_usd: xxxx"
   ]
  },
  {
   "cell_type": "code",
   "execution_count": 12,
   "metadata": {},
   "outputs": [],
   "source": [
    "# Replace \"Free\" with \"0\" and remove commas\n",
    "audible_df['price'] = audible_df['price'].replace(\"Free\", \"0\").str.replace(',', '')\n",
    "\n",
    "# Convert the 'price' column to numeric\n",
    "audible_df['price'] = pd.to_numeric(audible_df['price'], errors='coerce')\n",
    "\n",
    "# Use the historical exchange rate from April 11, 2022\n",
    "historical_exchange_rate = 76.0  # 1 USD = 76 INR\n",
    "\n",
    "# Convert the 'price' column from INR to USD\n",
    "audible_df['price_usd'] = audible_df['price'] / historical_exchange_rate\n",
    "\n",
    "# Round to two decimal places for clarity\n",
    "audible_df['price_usd'] = audible_df['price_usd'].round(2)\n"
   ]
  },
  {
   "cell_type": "code",
   "execution_count": 13,
   "metadata": {},
   "outputs": [
    {
     "name": "stdout",
     "output_type": "stream",
     "text": [
      "****************************************************************************************************\n",
      "   price  price_usd\n",
      "0  468.0       6.16\n",
      "1  820.0      10.79\n",
      "2  410.0       5.39\n",
      "3  615.0       8.09\n",
      "4  820.0      10.79\n",
      "****************************************************************************************************\n"
     ]
    }
   ],
   "source": [
    "print(\"*\" * 100)\n",
    "print(audible_df[['price', 'price_usd']].head())\n",
    "print(\"*\" * 100)"
   ]
  },
  {
   "cell_type": "code",
   "execution_count": 14,
   "metadata": {},
   "outputs": [
    {
     "name": "stdout",
     "output_type": "stream",
     "text": [
      "Final Table\n",
      "                                         name            author  \\\n",
      "0                  Geronimo Stilton #11 & #12  Geronimo Stilton   \n",
      "1                            The Burning Maze      Rick Riordan   \n",
      "2                                The Deep End       Jeff Kinney   \n",
      "3                        Daughter of the Deep      Rick Riordan   \n",
      "4  The Lightning Thief: Percy Jackson, Book 1      Rick Riordan   \n",
      "\n",
      "          narrator                time  minutes releasedate month day  year  \\\n",
      "0      Bill Lobely   2 hrs and 20 mins      140    04-08-08    08  04  2008   \n",
      "1   Robbie Daymond   13 hrs and 8 mins      788    01-05-18    05  01  2018   \n",
      "2      Dan Russell    2 hrs and 3 mins      123    06-11-20    11  06  2020   \n",
      "3  Soneela Nankani  11 hrs and 16 mins      676    05-10-21    10  05  2021   \n",
      "4  Jesse Bernstein              10 hrs      600    13-01-10    01  13  2010   \n",
      "\n",
      "  language  stars rated  ratings  price  price_usd  \n",
      "0  English    5.0   yes     34.0  468.0       6.16  \n",
      "1  English    4.5   yes     41.0  820.0      10.79  \n",
      "2  English    4.5   yes     38.0  410.0       5.39  \n",
      "3  English    4.5   yes     12.0  615.0       8.09  \n",
      "4  English    4.5   yes    181.0  820.0      10.79  \n"
     ]
    }
   ],
   "source": [
    "print(\"Final Table\")\n",
    "audible_df = audible_df[['name','author','narrator','time','minutes','releasedate','month', 'day', 'year','language','stars','rated','ratings','price','price_usd']]\n",
    "audible_df['name'] = audible_df['name'].astype(str)\n",
    "audible_df.to_csv('audible_output.csv', index=False)\n",
    "print(audible_df.head())"
   ]
  },
  {
   "cell_type": "code",
   "execution_count": 15,
   "metadata": {},
   "outputs": [
    {
     "name": "stdout",
     "output_type": "stream",
     "text": [
      "<class 'pandas.core.frame.DataFrame'>\n",
      "Index: 61884 entries, 0 to 87488\n",
      "Data columns (total 15 columns):\n",
      " #   Column       Non-Null Count  Dtype  \n",
      "---  ------       --------------  -----  \n",
      " 0   name         61884 non-null  object \n",
      " 1   author       61884 non-null  object \n",
      " 2   narrator     61884 non-null  object \n",
      " 3   time         61884 non-null  object \n",
      " 4   minutes      61884 non-null  int64  \n",
      " 5   releasedate  61884 non-null  object \n",
      " 6   month        61884 non-null  object \n",
      " 7   day          61884 non-null  object \n",
      " 8   year         61884 non-null  int64  \n",
      " 9   language     61884 non-null  object \n",
      " 10  stars        14590 non-null  float64\n",
      " 11  rated        61884 non-null  object \n",
      " 12  ratings      8897 non-null   float64\n",
      " 13  price        61884 non-null  float64\n",
      " 14  price_usd    61884 non-null  float64\n",
      "dtypes: float64(4), int64(2), object(9)\n",
      "memory usage: 7.6+ MB\n",
      "None\n"
     ]
    }
   ],
   "source": [
    "print(audible_df.info())"
   ]
  },
  {
   "cell_type": "code",
   "execution_count": 16,
   "metadata": {},
   "outputs": [
    {
     "name": "stdout",
     "output_type": "stream",
     "text": [
      "name            object\n",
      "author          object\n",
      "narrator        object\n",
      "time            object\n",
      "minutes          int64\n",
      "releasedate     object\n",
      "month            int64\n",
      "day              int64\n",
      "year             int64\n",
      "language        object\n",
      "stars          float64\n",
      "rated           object\n",
      "ratings          int64\n",
      "price          float64\n",
      "price_usd      float64\n",
      "dtype: object\n"
     ]
    }
   ],
   "source": [
    "\n",
    "# Convert to string type\n",
    "audible_df['language'] = audible_df['language'].astype(str)\n",
    "audible_df['rated'] = audible_df['rated'].astype(str)\n",
    "\n",
    "# Convert to integer type, handling non-numeric values if necessary\n",
    "audible_df['minutes'] = pd.to_numeric(audible_df['minutes'], errors='coerce').fillna(0).astype(int)\n",
    "audible_df['month'] = pd.to_numeric(audible_df['month'], errors='coerce').fillna(0).astype(int)\n",
    "audible_df['day'] = pd.to_numeric(audible_df['day'], errors='coerce').fillna(0).astype(int)\n",
    "audible_df['year'] = pd.to_numeric(audible_df['year'], errors='coerce').fillna(0).astype(int)\n",
    "audible_df['ratings'] = pd.to_numeric(audible_df['ratings'], errors='coerce').fillna(0).astype(int)\n",
    "\n",
    "# Convert remaining columns to float type\n",
    "audible_df['stars'] = audible_df['stars'].astype(float)\n",
    "audible_df['price'] = audible_df['price'].astype(float)\n",
    "audible_df['price_usd'] = audible_df['price_usd'].astype(float)\n",
    "\n",
    "# Verify final data types\n",
    "print(audible_df.dtypes)"
   ]
  },
  {
   "cell_type": "code",
   "execution_count": 17,
   "metadata": {},
   "outputs": [
    {
     "name": "stdout",
     "output_type": "stream",
     "text": [
      "Stratified Sample by Month\n",
      "month\n",
      "3     0.105816\n",
      "10    0.096769\n",
      "2     0.092892\n",
      "11    0.084330\n",
      "12    0.082391\n",
      "1     0.081745\n",
      "9     0.081260\n",
      "4     0.078675\n",
      "8     0.076898\n",
      "7     0.075283\n",
      "5     0.073021\n",
      "6     0.070921\n",
      "Name: proportion, dtype: float64\n",
      "                                                  name         author  \\\n",
      "461    Ivy & Bean Take Care of the Babysitter (Book 4)  Annie Barrows   \n",
      "50684                                 The Winter Guest       W.C.Ryan   \n",
      "60193                                  Chasing Secrets    Brandt Legg   \n",
      "83373                                              Win  Vera Nazarian   \n",
      "32267                                  Old Man Country  Thomas R.Cole   \n",
      "\n",
      "               narrator                time  minutes releasedate  month  day  \\\n",
      "461      Hallie Ricardo    1 hr and 11 mins       71    04-01-22      1    4   \n",
      "50684     Liam Hourican    9 hrs and 5 mins      545    06-01-22      1    6   \n",
      "60193       Roger Wayne  22 hrs and 29 mins     1349    25-01-22      1   25   \n",
      "83373  Sofia Willingham  37 hrs and 12 mins     2232    31-01-20      1   31   \n",
      "32267     David Colacci   7 hrs and 19 mins      439    07-01-20      1    7   \n",
      "\n",
      "       year language  stars rated  ratings   price  price_usd  \n",
      "461    2022  English    NaN    no        0   500.0       6.58  \n",
      "50684  2022  English    NaN    no        0  1328.0      17.47  \n",
      "60193  2022  English    NaN    no        0  1507.0      19.83  \n",
      "83373  2020  English    NaN    no        0  1055.0      13.88  \n",
      "32267  2020  English    NaN    no        0   586.0       7.71  \n"
     ]
    },
    {
     "name": "stderr",
     "output_type": "stream",
     "text": [
      "/var/folders/09/_ffptp312fj33qw8f8_zqqgc0000gn/T/ipykernel_15408/317001460.py:2: DeprecationWarning: DataFrameGroupBy.apply operated on the grouping columns. This behavior is deprecated, and in a future version of pandas the grouping columns will be excluded from the operation. Either pass `include_groups=False` to exclude the groupings or explicitly select the grouping columns after groupby to silence this warning.\n",
      "  stratified_sample = audible_df.groupby('month', group_keys=False).apply(lambda x: x.sample(frac=0.1, random_state=42))\n"
     ]
    }
   ],
   "source": [
    "# Perform stratified sampling by language (10% sample size for each language group)\n",
    "stratified_sample = audible_df.groupby('month', group_keys=False).apply(lambda x: x.sample(frac=0.1, random_state=42))\n",
    "\n",
    "# Display the stratified sample\n",
    "print(\"Stratified Sample by Month\")\n",
    "print(stratified_sample['month'].value_counts(normalize=True))  # Show proportion for each language in the sample\n",
    "print(stratified_sample.head())\n"
   ]
  },
  {
   "cell_type": "code",
   "execution_count": 18,
   "metadata": {},
   "outputs": [
    {
     "name": "stdout",
     "output_type": "stream",
     "text": [
      "Cluster Sample by Year\n",
      "year\n",
      "2020    7656\n",
      "2015    2379\n",
      "2010    1193\n",
      "2005     330\n",
      "2000     189\n",
      "Name: count, dtype: int64\n",
      "                                             name        author  \\\n",
      "2                                    The Deep End   Jeff Kinney   \n",
      "4      The Lightning Thief: Percy Jackson, Book 1  Rick Riordan   \n",
      "10       The Titan's Curse: Percy Jackson, Book 3  Rick Riordan   \n",
      "20                              The Tower of Nero  Rick Riordan   \n",
      "24  Percy Jackson and the Battle of the Labyrinth  Rick Riordan   \n",
      "\n",
      "           narrator                time  minutes releasedate  month  day  \\\n",
      "2       Dan Russell    2 hrs and 3 mins      123    06-11-20     11    6   \n",
      "4   Jesse Bernstein              10 hrs      600    13-01-10      1   13   \n",
      "10  Jesse Bernstein   8 hrs and 48 mins      528    14-01-10      1   14   \n",
      "20   Robbie Daymond  12 hrs and 12 mins      732    06-10-20     10    6   \n",
      "24  Jesse Bernstein  10 hrs and 32 mins      632    21-01-10      1   21   \n",
      "\n",
      "    year language  stars rated  ratings  price  price_usd  \n",
      "2   2020  English    4.5   yes       38  410.0       5.39  \n",
      "4   2010  English    4.5   yes      181  820.0      10.79  \n",
      "10  2010  English    4.5   yes      130  820.0      10.79  \n",
      "20  2020  English    5.0   yes       79  615.0       8.09  \n",
      "24  2010  English    5.0   yes      101  820.0      10.79  \n"
     ]
    }
   ],
   "source": [
    "# Choose specific years as clusters, for example, 2020 and 2021\n",
    "selected_years = [2000, 2005, 2010, 2015, 2020]\n",
    "\n",
    "# Filter the dataset to include only the selected clusters (years)\n",
    "cluster_sample = audible_df[audible_df['year'].isin(selected_years)]\n",
    "\n",
    "# Display the cluster sample\n",
    "print(\"Cluster Sample by Year\")\n",
    "print(cluster_sample['year'].value_counts())  # Show the distribution of selected years in the sample\n",
    "print(cluster_sample.head())\n"
   ]
  }
 ],
 "metadata": {
  "kernelspec": {
   "display_name": "Python 3",
   "language": "python",
   "name": "python3"
  },
  "language_info": {
   "codemirror_mode": {
    "name": "ipython",
    "version": 3
   },
   "file_extension": ".py",
   "mimetype": "text/x-python",
   "name": "python",
   "nbconvert_exporter": "python",
   "pygments_lexer": "ipython3",
   "version": "3.11.5"
  }
 },
 "nbformat": 4,
 "nbformat_minor": 2
}
